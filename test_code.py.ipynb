{
 "cells": [
  {
   "cell_type": "code",
   "execution_count": 4,
   "id": "a377b51f",
   "metadata": {},
   "outputs": [],
   "source": [
    "import random\n",
    "\n",
    "def generate_input():\n",
    "    n = random.randint(1, 1000)\n",
    "    W = random.randint(1, 50)\n",
    "    val = [random.randint(1, 10) for i in range(n)]\n",
    "    wt = [random.randint(1, 10) for i in range(n)]\n",
    "    return n, W, val, wt\n",
    "\n",
    "def theif_max_weight(W, wt, val, n):\n",
    "    prev = [0] * (W+1)\n",
    "    for i in range(wt[0],W+1):\n",
    "        prev[i] = val[0]\n",
    "    for ind in range(1,n):\n",
    "        for cap in range(W,-1,-1):\n",
    "            notTaken = 0 + prev[cap]\n",
    "            taken = float('-inf')\n",
    "            if wt[ind] <= cap:\n",
    "                taken = val[ind] + prev[cap-wt[ind]]\n",
    "            prev[cap] = max(notTaken, taken)\n",
    "    return prev[W]\n",
    "\n",
    "# Write input to file\n",
    "with open(\"input1.txt\", \"w\") as f:\n",
    "    for i in range(1000):\n",
    "        n, W, val, wt = generate_input()\n",
    "        f.write(str(n) + \"\\n\")\n",
    "        f.write(str(W) + \"\\n\")\n",
    "        f.write(\" \".join(str(x) for x in val) + \"\\n\")\n",
    "        f.write(\" \".join(str(x) for x in wt) + \"\\n\")\n",
    "\n",
    "# Run function and write output to file\n",
    "with open(\"input1.txt\", \"r\") as f:\n",
    "    inputs = f.readlines()\n",
    "\n",
    "with open(\"output1.txt\", \"w\") as f:\n",
    "    for i in range(100):\n",
    "        n = int(inputs[i*4].strip())\n",
    "        W = int(inputs[i*4+1].strip())\n",
    "        val = list(map(int, inputs[i*4+2].strip().split()))\n",
    "        wt = list(map(int, inputs[i*4+3].strip().split()))\n",
    "        result = theif_max_weight(W, wt, val, n)\n",
    "        f.write(str(result) + \"\\n\")\n"
   ]
  },
  {
   "cell_type": "code",
   "execution_count": null,
   "id": "5a841969",
   "metadata": {},
   "outputs": [],
   "source": [
    "print(open)"
   ]
  }
 ],
 "metadata": {
  "kernelspec": {
   "display_name": "Python 3 (ipykernel)",
   "language": "python",
   "name": "python3"
  },
  "language_info": {
   "codemirror_mode": {
    "name": "ipython",
    "version": 3
   },
   "file_extension": ".py",
   "mimetype": "text/x-python",
   "name": "python",
   "nbconvert_exporter": "python",
   "pygments_lexer": "ipython3",
   "version": "3.9.7"
  }
 },
 "nbformat": 4,
 "nbformat_minor": 5
}
